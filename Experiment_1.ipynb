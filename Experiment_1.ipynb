{
  "cells": [
    {
      "cell_type": "markdown",
      "metadata": {
        "id": "view-in-github",
        "colab_type": "text"
      },
      "source": [
        "<a href=\"https://colab.research.google.com/github/Suhail1263/Ex.No.1---Data-Preprocessing/blob/main/Experiment_1.ipynb\" target=\"_parent\"><img src=\"https://colab.research.google.com/assets/colab-badge.svg\" alt=\"Open In Colab\"/></a>"
      ]
    },
    {
      "cell_type": "code",
      "source": [
        "import pandas as pd"
      ],
      "metadata": {
        "id": "f7J3MTzPPgsZ"
      },
      "execution_count": null,
      "outputs": []
    },
    {
      "cell_type": "code",
      "source": [
        "df=pd.read_csv(\"/content/Churn_Modelling (1).csv\")\n"
      ],
      "metadata": {
        "id": "GTjOCNTOPR2f"
      },
      "execution_count": null,
      "outputs": []
    },
    {
      "cell_type": "code",
      "source": [
        "df.head()\n",
        "df.isnull().sum()\n",
        "df.drop([\"RowNumber\",\"Age\",\"Gender\",\"Geography\",\"Surname\"],inplace=True,axis=1)"
      ],
      "metadata": {
        "id": "ChMKk8ePcEIR"
      },
      "execution_count": null,
      "outputs": []
    },
    {
      "cell_type": "code",
      "source": [
        "print(df)\n"
      ],
      "metadata": {
        "colab": {
          "base_uri": "https://localhost:8080/"
        },
        "id": "VRzm-z5XQaKv",
        "outputId": "f3bf51e6-9b7e-4478-9114-4e908b240a0b"
      },
      "execution_count": null,
      "outputs": [
        {
          "output_type": "stream",
          "name": "stdout",
          "text": [
            "      CustomerId  CreditScore  Tenure    Balance  NumOfProducts  HasCrCard  \\\n",
            "0       15634602          619       2       0.00              1          1   \n",
            "1       15647311          608       1   83807.86              1          0   \n",
            "2       15619304          502       8  159660.80              3          1   \n",
            "3       15701354          699       1       0.00              2          0   \n",
            "4       15737888          850       2  125510.82              1          1   \n",
            "...          ...          ...     ...        ...            ...        ...   \n",
            "9995    15606229          771       5       0.00              2          1   \n",
            "9996    15569892          516      10   57369.61              1          1   \n",
            "9997    15584532          709       7       0.00              1          0   \n",
            "9998    15682355          772       3   75075.31              2          1   \n",
            "9999    15628319          792       4  130142.79              1          1   \n",
            "\n",
            "      IsActiveMember  EstimatedSalary  Exited  \n",
            "0                  1        101348.88       1  \n",
            "1                  1        112542.58       0  \n",
            "2                  0        113931.57       1  \n",
            "3                  0         93826.63       0  \n",
            "4                  1         79084.10       0  \n",
            "...              ...              ...     ...  \n",
            "9995               0         96270.64       0  \n",
            "9996               1        101699.77       0  \n",
            "9997               1         42085.58       1  \n",
            "9998               0         92888.52       1  \n",
            "9999               0         38190.78       0  \n",
            "\n",
            "[10000 rows x 9 columns]\n"
          ]
        }
      ]
    },
    {
      "cell_type": "code",
      "source": [
        "x=df.iloc[:,:-1].values\n",
        "y=df.iloc[:,-1].values"
      ],
      "metadata": {
        "id": "cc2aNqNNQcqz"
      },
      "execution_count": null,
      "outputs": []
    },
    {
      "cell_type": "code",
      "source": [
        "print(x)"
      ],
      "metadata": {
        "colab": {
          "base_uri": "https://localhost:8080/"
        },
        "id": "o81O2bVUQfLp",
        "outputId": "9ff0d7cf-a617-4461-a56d-b3e760a97c10"
      },
      "execution_count": null,
      "outputs": [
        {
          "output_type": "stream",
          "name": "stdout",
          "text": [
            "[[1.5634602e+07 6.1900000e+02 2.0000000e+00 ... 1.0000000e+00\n",
            "  1.0000000e+00 1.0134888e+05]\n",
            " [1.5647311e+07 6.0800000e+02 1.0000000e+00 ... 0.0000000e+00\n",
            "  1.0000000e+00 1.1254258e+05]\n",
            " [1.5619304e+07 5.0200000e+02 8.0000000e+00 ... 1.0000000e+00\n",
            "  0.0000000e+00 1.1393157e+05]\n",
            " ...\n",
            " [1.5584532e+07 7.0900000e+02 7.0000000e+00 ... 0.0000000e+00\n",
            "  1.0000000e+00 4.2085580e+04]\n",
            " [1.5682355e+07 7.7200000e+02 3.0000000e+00 ... 1.0000000e+00\n",
            "  0.0000000e+00 9.2888520e+04]\n",
            " [1.5628319e+07 7.9200000e+02 4.0000000e+00 ... 1.0000000e+00\n",
            "  0.0000000e+00 3.8190780e+04]]\n"
          ]
        }
      ]
    },
    {
      "cell_type": "code",
      "source": [
        "print(y)"
      ],
      "metadata": {
        "colab": {
          "base_uri": "https://localhost:8080/"
        },
        "id": "1rQU4fylQhKi",
        "outputId": "fbf3f33c-7a52-47a9-bad3-89e10610a3b4"
      },
      "execution_count": null,
      "outputs": [
        {
          "output_type": "stream",
          "name": "stdout",
          "text": [
            "[1 0 1 ... 1 1 0]\n"
          ]
        }
      ]
    },
    {
      "cell_type": "code",
      "source": [
        "from sklearn.preprocessing import MinMaxScaler\n",
        "scaler = MinMaxScaler()\n",
        "df1 = pd.DataFrame(scaler.fit_transform(df))"
      ],
      "metadata": {
        "id": "meaS3ctUQjwK"
      },
      "execution_count": null,
      "outputs": []
    },
    {
      "cell_type": "code",
      "source": [
        "print(df1)"
      ],
      "metadata": {
        "colab": {
          "base_uri": "https://localhost:8080/"
        },
        "id": "dQFPSqDHQmOx",
        "outputId": "c06075aa-edeb-4c9e-95c3-2c85d55ac367"
      },
      "execution_count": null,
      "outputs": [
        {
          "output_type": "stream",
          "name": "stdout",
          "text": [
            "             0      1    2         3         4    5    6         7    8\n",
            "0     0.275616  0.538  0.2  0.000000  0.000000  1.0  1.0  0.506735  1.0\n",
            "1     0.326454  0.516  0.1  0.334031  0.000000  0.0  1.0  0.562709  0.0\n",
            "2     0.214421  0.304  0.8  0.636357  0.666667  1.0  0.0  0.569654  1.0\n",
            "3     0.542636  0.698  0.1  0.000000  0.333333  0.0  0.0  0.469120  0.0\n",
            "4     0.688778  1.000  0.2  0.500246  0.000000  1.0  1.0  0.395400  0.0\n",
            "...        ...    ...  ...       ...       ...  ...  ...       ...  ...\n",
            "9995  0.162119  0.842  0.5  0.000000  0.333333  1.0  0.0  0.481341  0.0\n",
            "9996  0.016765  0.332  1.0  0.228657  0.000000  1.0  1.0  0.508490  0.0\n",
            "9997  0.075327  0.718  0.7  0.000000  0.000000  0.0  1.0  0.210390  1.0\n",
            "9998  0.466637  0.844  0.3  0.299226  0.333333  1.0  0.0  0.464429  1.0\n",
            "9999  0.250483  0.884  0.4  0.518708  0.000000  1.0  0.0  0.190914  0.0\n",
            "\n",
            "[10000 rows x 9 columns]\n"
          ]
        }
      ]
    },
    {
      "cell_type": "code",
      "source": [
        "from sklearn.model_selection import train_test_split\n",
        "xtrain,ytrain,xtest,ytest=train_test_split(x,y,test_size=0.2,random_state=2)"
      ],
      "metadata": {
        "id": "9YULjG5KQori"
      },
      "execution_count": null,
      "outputs": []
    },
    {
      "cell_type": "code",
      "source": [
        "print(xtrain)"
      ],
      "metadata": {
        "colab": {
          "base_uri": "https://localhost:8080/"
        },
        "id": "rxg2yjiGQrJb",
        "outputId": "b6a3b2a3-4b73-42db-e2eb-8bdf74ab29e5"
      },
      "execution_count": null,
      "outputs": [
        {
          "output_type": "stream",
          "name": "stdout",
          "text": [
            "[[1.5759733e+07 7.7400000e+02 5.0000000e+00 ... 1.0000000e+00\n",
            "  1.0000000e+00 6.4716080e+04]\n",
            " [1.5673908e+07 6.0200000e+02 6.0000000e+00 ... 1.0000000e+00\n",
            "  1.0000000e+00 1.3188646e+05]\n",
            " [1.5757425e+07 7.1600000e+02 1.0000000e+00 ... 1.0000000e+00\n",
            "  1.0000000e+00 9.9661460e+04]\n",
            " ...\n",
            " [1.5668767e+07 8.5000000e+02 3.0000000e+00 ... 1.0000000e+00\n",
            "  0.0000000e+00 1.9503307e+05]\n",
            " [1.5592736e+07 5.5100000e+02 5.0000000e+00 ... 1.0000000e+00\n",
            "  0.0000000e+00 1.7668016e+05]\n",
            " [1.5801072e+07 6.5400000e+02 7.0000000e+00 ... 1.0000000e+00\n",
            "  0.0000000e+00 1.5131637e+05]]\n"
          ]
        }
      ]
    },
    {
      "cell_type": "code",
      "source": [
        "print(len(xtrain))"
      ],
      "metadata": {
        "colab": {
          "base_uri": "https://localhost:8080/"
        },
        "id": "4kk9pXBAQzYc",
        "outputId": "7d1ec00d-63c4-4bd8-ae15-4698cc680284"
      },
      "execution_count": null,
      "outputs": [
        {
          "output_type": "stream",
          "name": "stdout",
          "text": [
            "8000\n"
          ]
        }
      ]
    },
    {
      "cell_type": "code",
      "source": [
        "print(xtest)"
      ],
      "metadata": {
        "colab": {
          "base_uri": "https://localhost:8080/"
        },
        "id": "qUh-Vg92Q2gU",
        "outputId": "90b8077f-7b62-4189-f678-34fa37808a44"
      },
      "execution_count": null,
      "outputs": [
        {
          "output_type": "stream",
          "name": "stdout",
          "text": [
            "[0 0 0 ... 0 1 0]\n"
          ]
        }
      ]
    },
    {
      "cell_type": "code",
      "source": [
        "from sklearn.preprocessing import StandardScaler\n",
        "sc = StandardScaler()\n",
        "df1 = sc.fit_transform(df)"
      ],
      "metadata": {
        "id": "GjRnp5bZQ4xX"
      },
      "execution_count": null,
      "outputs": []
    },
    {
      "cell_type": "code",
      "source": [
        "print(df1)"
      ],
      "metadata": {
        "id": "2wTYvZktQ7CS",
        "outputId": "0ee2f2ff-83f9-4425-83a6-7fde923600db",
        "colab": {
          "base_uri": "https://localhost:8080/"
        }
      },
      "execution_count": null,
      "outputs": [
        {
          "output_type": "stream",
          "name": "stdout",
          "text": [
            "[[-0.78321342 -0.32622142 -1.04175968 ...  0.97024255  0.02188649\n",
            "   1.97716468]\n",
            " [-0.60653412 -0.44003595 -1.38753759 ...  0.97024255  0.21653375\n",
            "  -0.50577476]\n",
            " [-0.99588476 -1.53679418  1.03290776 ... -1.03067011  0.2406869\n",
            "   1.97716468]\n",
            " ...\n",
            " [-1.47928179  0.60498839  0.68712986 ...  0.97024255 -1.00864308\n",
            "   1.97716468]\n",
            " [-0.11935577  1.25683526 -0.69598177 ... -1.03067011 -0.12523071\n",
            "   1.97716468]\n",
            " [-0.87055909  1.46377078 -0.35020386 ... -1.03067011 -1.07636976\n",
            "  -0.50577476]]\n"
          ]
        }
      ]
    },
    {
      "cell_type": "code",
      "source": [],
      "metadata": {
        "id": "5s1VyijcQ9eH"
      },
      "execution_count": null,
      "outputs": []
    }
  ],
  "metadata": {
    "colab": {
      "provenance": [],
      "include_colab_link": true
    },
    "kernelspec": {
      "display_name": "Python 3",
      "name": "python3"
    },
    "language_info": {
      "name": "python"
    }
  },
  "nbformat": 4,
  "nbformat_minor": 0
}